{
 "cells": [
  {
   "cell_type": "markdown",
   "id": "b0ef409c",
   "metadata": {},
   "source": [
    "Контуры https://waksoft.susu.ru/2021/11/30/obnaruzhenie-kongurov-s-ispolzovaniem-opencv/ "
   ]
  },
  {
   "cell_type": "code",
   "execution_count": null,
   "id": "a0568039",
   "metadata": {},
   "outputs": [],
   "source": [
    "import cv2\n",
    "import numpy as np\n",
    "\n",
    "cam = cv2.VideoCapture(0)\n",
    "\n",
    "while True:\n",
    "    ret, img = cam.read()\n",
    "    \n",
    "    my_photo = cv2.cvtColor(img, cv2.COLOR_BGR2GRAY)\n",
    "    \n",
    "    kernel = np.array([[-1,0,1], [-2,0,2], [-1,0,1]])\n",
    "    im = cv2.filter2D(my_photo, -1, kernel)\n",
    "    cv2.imshow('MyPhoto', im )\n",
    "    \n",
    "    key = cv2.waitKey(10)\n",
    "    if key == ord(' '): #ord возвращает номер символа в таблице UTF8\n",
    "        break\n",
    "cv2.destroyAllWindows()"
   ]
  },
  {
   "cell_type": "code",
   "execution_count": null,
   "id": "5a63a32a",
   "metadata": {},
   "outputs": [],
   "source": []
  }
 ],
 "metadata": {
  "kernelspec": {
   "display_name": "Python 3 (ipykernel)",
   "language": "python",
   "name": "python3"
  },
  "language_info": {
   "codemirror_mode": {
    "name": "ipython",
    "version": 3
   },
   "file_extension": ".py",
   "mimetype": "text/x-python",
   "name": "python",
   "nbconvert_exporter": "python",
   "pygments_lexer": "ipython3",
   "version": "3.11.5"
  }
 },
 "nbformat": 4,
 "nbformat_minor": 5
}
