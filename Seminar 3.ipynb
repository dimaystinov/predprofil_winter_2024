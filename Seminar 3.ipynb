{
 "cells": [
  {
   "cell_type": "markdown",
   "id": "42a69bdf",
   "metadata": {},
   "source": [
    "Контуры https://waksoft.susu.ru/2021/11/30/obnaruzhenie-kongurov-s-ispolzovaniem-opencv/ "
   ]
  },
  {
   "cell_type": "code",
   "execution_count": null,
   "id": "5e638161",
   "metadata": {},
   "outputs": [],
   "source": [
    "import cv2\n",
    "import numpy as np\n",
    "my_photo = cv2.imread('1.jpg',cv2.IMREAD_GRAYSCALE)\n",
    "kernel = np.array([[-1,0,1], [-2,0,2], [-1,0,1]])\n",
    "im = cv2.filter2D(my_photo, -1, kernel)\n",
    "cv2.imshow('MyPhoto', im )\n",
    "cv2.waitKey(0)\n",
    "cv2.destroyAllWindows()"
   ]
  },
  {
   "cell_type": "code",
   "execution_count": null,
   "id": "bd28218e",
   "metadata": {},
   "outputs": [],
   "source": []
  }
 ],
 "metadata": {
  "kernelspec": {
   "display_name": "Python 3 (ipykernel)",
   "language": "python",
   "name": "python3"
  },
  "language_info": {
   "codemirror_mode": {
    "name": "ipython",
    "version": 3
   },
   "file_extension": ".py",
   "mimetype": "text/x-python",
   "name": "python",
   "nbconvert_exporter": "python",
   "pygments_lexer": "ipython3",
   "version": "3.11.5"
  }
 },
 "nbformat": 4,
 "nbformat_minor": 5
}
