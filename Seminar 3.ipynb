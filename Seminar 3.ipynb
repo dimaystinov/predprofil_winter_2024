{
 "cells": [
  {
   "cell_type": "markdown",
   "id": "e7422164",
   "metadata": {},
   "source": [
    "Контуры https://waksoft.susu.ru/2021/11/30/obnaruzhenie-kongurov-s-ispolzovaniem-opencv/ "
   ]
  },
  {
   "cell_type": "code",
   "execution_count": 1,
   "id": "c1313be7",
   "metadata": {},
   "outputs": [],
   "source": [
    "import cv2\n",
    "import numpy as np\n",
    "\n",
    "cam = cv2.VideoCapture(0)\n",
    "\n",
    "while True:\n",
    "    ret, img = cam.read()\n",
    "    \n",
    "    my_photo = cv2.cvtColor(img, cv2.COLOR_BGR2GRAY)\n",
    "    \n",
    "    kernel = np.array([[-1,0,1], [-2,0,2], [-1,0,1]])\n",
    "    im = cv2.filter2D(my_photo, -1, kernel)\n",
    "    cv2.imshow('MyPhoto', im )\n",
    "    \n",
    "    key = cv2.waitKey(10)\n",
    "    if key == ord(' '): #ord возвращает номер символа в таблице UTF8\n",
    "        break\n",
    "cv2.destroyAllWindows()"
   ]
  },
  {
   "cell_type": "code",
   "execution_count": null,
   "id": "2381dd0d",
   "metadata": {},
   "outputs": [],
   "source": [
    "import cv2\n",
    "import numpy as np\n",
    "\n",
    "cam = cv2.VideoCapture(0)\n",
    "\n",
    "while True:\n",
    "    ret, img = cam.read()\n",
    "    median_image  = cv2.medianBlur(img,5)\n",
    "    img_gray =  cv2.cvtColor(img, cv2.COLOR_BGR2GRAY)\n",
    "\n",
    "    #set a thresh\n",
    "    thresh = 0\n",
    "\n",
    "    #get threshold image\n",
    "    ret,thresh_img = cv2.threshold(img_gray, thresh, 255, cv2.THRESH_BINARY)\n",
    "\n",
    "    #find contours\n",
    "    contours, hierarchy = cv2.findContours(thresh_img, cv2.RETR_TREE, cv2.CHAIN_APPROX_SIMPLE)\n",
    "\n",
    "    #create an empty image for contours\n",
    "    img_contours = np.zeros(my_photo.shape)\n",
    "\n",
    "    # draw the contours on the empty image\n",
    "    cv2.drawContours(img_contours, contours, -1, (255,255,255), 1)\n",
    "\n",
    "    cv2.imshow('contours', img_contours) # выводим итоговое изображение в окно\n",
    "\n",
    "    key = cv2.waitKey(10)\n",
    "    if key == ord(' '): #ord возвращает номер символа в таблице UTF8\n",
    "        break\n",
    "cv2.destroyAllWindows()"
   ]
  },
  {
   "cell_type": "code",
   "execution_count": null,
   "id": "bdcad8f4",
   "metadata": {},
   "outputs": [],
   "source": []
  }
 ],
 "metadata": {
  "kernelspec": {
   "display_name": "Python 3 (ipykernel)",
   "language": "python",
   "name": "python3"
  },
  "language_info": {
   "codemirror_mode": {
    "name": "ipython",
    "version": 3
   },
   "file_extension": ".py",
   "mimetype": "text/x-python",
   "name": "python",
   "nbconvert_exporter": "python",
   "pygments_lexer": "ipython3",
   "version": "3.11.5"
  }
 },
 "nbformat": 4,
 "nbformat_minor": 5
}
