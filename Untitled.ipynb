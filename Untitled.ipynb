{
 "cells": [
  {
   "cell_type": "code",
   "execution_count": 16,
   "id": "9b4cfb82-d5e8-4421-ae1c-5792db437c0a",
   "metadata": {},
   "outputs": [
    {
     "name": "stdout",
     "output_type": "stream",
     "text": [
      "255\n"
     ]
    }
   ],
   "source": [
    "import cv2\n",
    "\n",
    "img = cv2.imread('1.jpg')\n",
    "img = img[:,:,1]\n",
    "cv2.imshow('img',img)\n",
    "cv2.waitKey(1000)\n",
    "print(img[100][200])"
   ]
  },
  {
   "cell_type": "code",
   "execution_count": 23,
   "id": "bb9db656-ac69-40c1-970a-83a4e7e59137",
   "metadata": {},
   "outputs": [],
   "source": [
    "cv2.destroyAllWindows()"
   ]
  },
  {
   "cell_type": "code",
   "execution_count": null,
   "id": "87d02616-8d06-4f9c-bb17-c55871e45ecd",
   "metadata": {},
   "outputs": [
    {
     "name": "stdout",
     "output_type": "stream",
     "text": [
      "True (480, 640, 3) <class 'numpy.uint8'>\n"
     ]
    }
   ],
   "source": [
    "import cv2\n",
    "import numpy as np\n",
    "\n",
    "cam = cv2.VideoCapture(0)\n",
    "\n",
    "success, frame = cam.read()\n",
    "\n",
    "print(success, frame.shape, type(frame[10, 20, 1]))\n",
    "\n",
    "while (True):\n",
    "    #read\n",
    "    success, frame = cam.read()\n",
    "    \n",
    "    #process\n",
    "    frame[200:600, 300:700, :] = 255\n",
    "    #frame = 255 - frame\n",
    "    \n",
    "    '''if (np.random.randint(4) == 3):\n",
    "        frame = frame[120:480, 130:640, 1]\n",
    "\n",
    "    #if (np.random.randint(3) == 2):\n",
    "    #    frame[:, :, 2] = frame[:, :, 1]\n",
    "\n",
    "    if (np.random.randint(3) == 2):\n",
    "        frame[:, 100:200, :] = 255 - frame[:, 100:200, :]\n",
    "    \n",
    "    #output\n",
    "    '''\n",
    "    cv2.imshow(\"frame\", frame)\n",
    "    \n",
    "    #process keyboard\n",
    "    key = cv2.waitKey(50) & 0xFF\n",
    "    \n",
    "    if (key == ord('q')):\n",
    "        break\n",
    "\n",
    "cv2.waitKey(0)\n",
    "cam.release()\n",
    "cv2.destroyAllWindows()\n",
    "cv2.waitKey(10)"
   ]
  },
  {
   "cell_type": "code",
   "execution_count": 24,
   "id": "5e689204-d176-48ba-b94f-ff912facb357",
   "metadata": {},
   "outputs": [],
   "source": [
    "cv2.destroyAllWindows()"
   ]
  },
  {
   "cell_type": "code",
   "execution_count": null,
   "id": "42e46950-0e66-49ea-95d7-15f61d45897f",
   "metadata": {},
   "outputs": [],
   "source": []
  }
 ],
 "metadata": {
  "kernelspec": {
   "display_name": "Python 3 (ipykernel)",
   "language": "python",
   "name": "python3"
  },
  "language_info": {
   "codemirror_mode": {
    "name": "ipython",
    "version": 3
   },
   "file_extension": ".py",
   "mimetype": "text/x-python",
   "name": "python",
   "nbconvert_exporter": "python",
   "pygments_lexer": "ipython3",
   "version": "3.9.18"
  }
 },
 "nbformat": 4,
 "nbformat_minor": 5
}
